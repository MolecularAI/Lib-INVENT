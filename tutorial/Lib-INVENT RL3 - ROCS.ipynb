{
 "cells": [
  {
   "cell_type": "markdown",
   "metadata": {},
   "source": [
    "\n",
    "# `Lib-INVENT`: Reinforcement Learning - ROCS + reaction filter\n",
    "The purpose of this notebook is to illustrate the assembly of a configuration input file containing a ROCS input.\n",
    "\n",
    "ROCS is a licensed virtual screening software based on similarity between input compounds and a specified reference (or target) molecule. For more information on ROCS, please refer to the OpenEye website: https://www.eyesopen.com/rocs\n",
    "\n",
    "*Note that in order to use ROCS, an OpenEye license is needed.*"
   ]
  },
  {
   "cell_type": "code",
   "execution_count": 29,
   "metadata": {},
   "outputs": [],
   "source": [
    "# load dependencies\n",
    "import os\n",
    "import re\n",
    "import json\n",
    "import tempfile\n",
    "\n",
    "# --------- change these path variables as required\n",
    "project_directory = \"</path/to/project/directory>\"\n",
    "output_directory = \"</path/to/output/directory>\"\n",
    "\n",
    "# --------- do not change\n",
    "# get the notebook's root path\n",
    "try: ipynb_path\n",
    "except NameError: ipynb_path = os.getcwd()\n",
    "\n",
    "# if required, generate a folder to store the results\n",
    "try:\n",
    "    os.mkdir(output_directory)\n",
    "except FileExistsError:\n",
    "    pass"
   ]
  },
  {
   "cell_type": "markdown",
   "metadata": {},
   "source": [
    "## Setting up the configuration\n",
    "The configuration is set up analogously to the previous tutorials. The difference arrises in the scoring function composition where a QSAR predictive property is not replaced with the ROCS model.\n",
    "\n",
    "The previously discussed selective Amide-coupling/Buchwald reaction filters are imposed."
   ]
  },
  {
   "cell_type": "markdown",
   "metadata": {},
   "source": [
    "### 1. Run Type Block"
   ]
  },
  {
   "cell_type": "code",
   "execution_count": 30,
   "metadata": {},
   "outputs": [],
   "source": [
    "# initialize the dictionary\n",
    "configuration = {\n",
    "    \"run_type\": \"reinforcement_learning\"\n",
    "}"
   ]
  },
  {
   "cell_type": "markdown",
   "metadata": {},
   "source": [
    "### 2. Logging Block"
   ]
  },
  {
   "cell_type": "code",
   "execution_count": 31,
   "metadata": {},
   "outputs": [],
   "source": [
    "# Add logging\n",
    "configuration.update({\n",
    "    \"logging\": {\n",
    "        \"sender\": \" \",        \n",
    "        \"recipient\": \"local\",                \n",
    "        \"logging_path\": os.path.join(output_directory, \"run.log\"), \n",
    "        \"job_name\": \"RL Demo ROCS\",                \n",
    "        \"job_id\": \" \"   \n",
    "        }\n",
    "    })"
   ]
  },
  {
   "cell_type": "markdown",
   "metadata": {},
   "source": [
    "### 3. Parameters Block"
   ]
  },
  {
   "cell_type": "code",
   "execution_count": 32,
   "metadata": {},
   "outputs": [],
   "source": [
    "#start assembling parameters block\n",
    "configuration.update({\n",
    "    \"parameters\": {\n",
    "        \"actor\": os.path.join(project_directory, \"trained_models/reaction_based.model\"),\n",
    "        \"critic\": os.path.join(project_directory, \"trained_models/reaction_based.model\"),\n",
    "        \"scaffolds\": [\"[*:0]N1CCN(CC1)CCCCN[*:1]\"],\n",
    "        \"n_steps\": 100,\n",
    "        \"learning_rate\": 0.0001,\n",
    "        \"batch_size\": 128,\n",
    "        \"randomize_scaffolds\": False # important since a RF is to be imposed.\n",
    "    }\n",
    "})"
   ]
  },
  {
   "cell_type": "code",
   "execution_count": 33,
   "metadata": {},
   "outputs": [],
   "source": [
    "#configure learning strategy\n",
    "learning_strategy = {\n",
    "        \"name\": \"DAP\",\n",
    "        \"parameters\":  {\n",
    "        \"sigma\": 120\n",
    "    }\n",
    "}\n",
    "\n",
    "configuration[\"parameters\"][\"learning_strategy\"] = learning_strategy"
   ]
  },
  {
   "cell_type": "markdown",
   "metadata": {},
   "source": [
    "#### Scoring strategy"
   ]
  },
  {
   "cell_type": "code",
   "execution_count": 34,
   "metadata": {},
   "outputs": [],
   "source": [
    "# configure scoring strategy\n",
    "scoring_strategy = {\n",
    "    \"name\": \"standard\" \n",
    "}"
   ]
  },
  {
   "cell_type": "code",
   "execution_count": 35,
   "metadata": {},
   "outputs": [],
   "source": [
    "# configure diversity filter\n",
    "diversity_filter =  {\n",
    "    \"name\": \"NoFilterWithPenalty\",     # To use a DF. The alternative option is \"NoFilter\"\n",
    "}\n",
    "\n",
    "scoring_strategy[\"diversity_filter\"] = diversity_filter"
   ]
  },
  {
   "cell_type": "code",
   "execution_count": 36,
   "metadata": {},
   "outputs": [],
   "source": [
    "# configure reaction filter\n",
    "reaction_filter =  {\n",
    "    \"type\":\"selective\",        \n",
    "    \"reactions\":{\"1\": [\"[#6;!$(C(C=*)(C=*));!$([#6]~[O,N,S]);$([#6]~[#6]):1][C:2](=[O:3])[N;D2;$(N(C=[O,S]));!$(N~[O,P,S,N]):4][#6;!$(C=*);!$([#6](~[O,N,S])N);$([#6]~[#6]):5]>>[#6:1][C:2](=[O:3])[*].[*][N:4][#6:5]\"],\n",
    "                 \"0\": [\"[c;$(c1:[c,n]:[c,n]:[c,n]:[c,n]:[c,n]:1):1]-!@[N;$(NC)&!$(N=*)&!$([N-])&!$(N#*)&!$([ND1])&!$(N[O])&!$(N[C,S]=[S,O,N]),H2&$(Nc1:[c,n]:[c,n]:[c,n]:[c,n]:[c,n]:1):2]>>[*][c;$(c1:[c,n]:[c,n]:[c,n]:[c,n]:[c,n]:1):1].[*][N:2]\"]}\n",
    "}\n",
    "\n",
    "scoring_strategy[\"reaction_filter\"] = reaction_filter"
   ]
  },
  {
   "cell_type": "markdown",
   "metadata": {},
   "source": [
    "#####  Define the scoring function\n",
    "This is the important point of difference to the previous tutorials. A ROCS similarity measure is imposed to guide the agent to propose compounds structurally resembling a known haloperidol ligand.\n",
    "\n",
    "The inputs used for the publication is provided in the tutorial/models/ROCS/ folder.\n",
    "\n"
   ]
  },
  {
   "cell_type": "code",
   "execution_count": 37,
   "metadata": {},
   "outputs": [],
   "source": [
    "scoring_function = {\n",
    "    \"name\": \"custom_sum\",              \n",
    "    \"parallel\": False,                     \n",
    "    \"parameters\": [\n",
    "    {\n",
    "        \"component_type\": \"parallel_rocs_similarity\",\n",
    "        \"model_path\": None,\n",
    "        \"name\": \"RefTversky ROCS sim\",\n",
    "        \"smiles\": [],\n",
    "        \"specific_parameters\": {\n",
    "            \"color_weight\": 0.5,\n",
    "            \"custom_cff\": \"<project_directory>/tutorial/models/ROCS/implicit_MD_mod_generic_hydrophobe.cff\",\n",
    "            \"enumerate_stereo\": True,\n",
    "            \"input_type\": \"shape_query\",\n",
    "            \"max_num_cpus\": 8,\n",
    "            \"rocs_input\": \"<project_directory>/tutorial/models/ROCS/haloperidol_3_feats.sq\",\n",
    "            \"shape_weight\": 0.5,\n",
    "            \"similarity_measure\": \"RefTversky\",\n",
    "            \"transformation_type\": \"no_transformation\"\n",
    "        },\n",
    "        \"weight\": 1\n",
    "    },\n",
    "    {\n",
    "        \"component_type\": \"custom_alerts\",\n",
    "        \"name\": \"Custom alerts\",              \n",
    "        \"weight\": 1,                          \n",
    "        \"model_path\": None,                    \n",
    "        \"smiles\": [                           \n",
    "            \"[*;r8]\",\n",
    "            \"[*;r9]\",\n",
    "            \"[*;r10]\",\n",
    "            \"[*;r11]\",\n",
    "            \"[*;r12]\",\n",
    "            \"[*;r13]\",\n",
    "            \"[*;r14]\",\n",
    "            \"[*;r15]\",\n",
    "            \"[*;r16]\",\n",
    "            \"[*;r17]\",\n",
    "            \"[#8][#8]\",\n",
    "            \"[#6;+]\",\n",
    "            \"[#16][#16]\",\n",
    "            \"[#7;!n][S;!$(S(=O)=O)]\",\n",
    "            \"[#7;!n][#7;!n]\",\n",
    "            \"C#C\",\n",
    "            \"C(=[O,S])[O,S]\",\n",
    "            \"[#7;!n][C;!$(C(=[O,N])[N,O])][#16;!s]\",\n",
    "            \"[#7;!n][C;!$(C(=[O,N])[N,O])][#7;!n]\",\n",
    "            \"[#7;!n][C;!$(C(=[O,N])[N,O])][#8;!o]\",\n",
    "            \"[#8;!o][C;!$(C(=[O,N])[N,O])][#16;!s]\",\n",
    "            \"[#8;!o][C;!$(C(=[O,N])[N,O])][#8;!o]\",\n",
    "            \"[#16;!s][C;!$(C(=[O,N])[N,O])][#16;!s]\"\n",
    "        ],\n",
    "        \"specific_parameters\": None           \n",
    "    }]\n",
    "}\n",
    "\n",
    "scoring_strategy[\"scoring_function\"] = scoring_function"
   ]
  },
  {
   "cell_type": "code",
   "execution_count": 1,
   "metadata": {
    "scrolled": true
   },
   "outputs": [
    {
     "ename": "NameError",
     "evalue": "name 'scoring_strategy' is not defined",
     "output_type": "error",
     "traceback": [
      "\u001b[0;31m---------------------------------------------------------------------------\u001b[0m",
      "\u001b[0;31mNameError\u001b[0m                                 Traceback (most recent call last)",
      "\u001b[0;32m<ipython-input-1-00b70c5b5f42>\u001b[0m in \u001b[0;36m<module>\u001b[0;34m\u001b[0m\n\u001b[1;32m      1\u001b[0m \u001b[0;31m# Update the paramters block with the scoring strategy\u001b[0m\u001b[0;34m\u001b[0m\u001b[0;34m\u001b[0m\u001b[0;34m\u001b[0m\u001b[0m\n\u001b[0;32m----> 2\u001b[0;31m \u001b[0mconfiguration\u001b[0m\u001b[0;34m[\u001b[0m\u001b[0;34m\"parameters\"\u001b[0m\u001b[0;34m]\u001b[0m\u001b[0;34m[\u001b[0m\u001b[0;34m\"scoring_strategy\"\u001b[0m\u001b[0;34m]\u001b[0m \u001b[0;34m=\u001b[0m \u001b[0mscoring_strategy\u001b[0m\u001b[0;34m\u001b[0m\u001b[0;34m\u001b[0m\u001b[0m\n\u001b[0m",
      "\u001b[0;31mNameError\u001b[0m: name 'scoring_strategy' is not defined"
     ]
    }
   ],
   "source": [
    "# Update the paramters block with the scoring strategy\n",
    "configuration[\"parameters\"][\"scoring_strategy\"] = scoring_strategy"
   ]
  },
  {
   "cell_type": "markdown",
   "metadata": {},
   "source": [
    "## Write out the configuration"
   ]
  },
  {
   "cell_type": "code",
   "execution_count": 39,
   "metadata": {},
   "outputs": [],
   "source": [
    "configuration_JSON_path = os.path.join(output_directory, \"input.json\")\n",
    "with open(configuration_JSON_path, 'w') as f:\n",
    "    json.dump(configuration, f, indent=4, sort_keys=True)"
   ]
  },
  {
   "cell_type": "markdown",
   "metadata": {},
   "source": [
    "# Run\n",
    "Execute in jupyter notebook"
   ]
  },
  {
   "cell_type": "code",
   "execution_count": 40,
   "metadata": {},
   "outputs": [],
   "source": [
    "%%capture captured_err_stream --no-stderr\n",
    "\n",
    "# execute REINVENT from the command-line\n",
    "!python {project_directory}/input.py {configuration_JSON_path}"
   ]
  },
  {
   "cell_type": "code",
   "execution_count": 41,
   "metadata": {},
   "outputs": [],
   "source": [
    "# print the output to a file, just to have it for documentation\n",
    "with open(os.path.join(output_dir, \"run.err\"), 'w') as file:\n",
    "    file.write(captured_err_stream.stdout)"
   ]
  },
  {
   "cell_type": "markdown",
   "metadata": {},
   "source": [
    "Execute in command line\n",
    "```\n",
    "$ conda activate lib-invent\n",
    "$ python <project_directory>/input.py <configuration_JSON_path>\n",
    "```\n"
   ]
  }
 ],
 "metadata": {
  "kernelspec": {
   "display_name": "Python 3",
   "language": "python",
   "name": "python3"
  },
  "language_info": {
   "codemirror_mode": {
    "name": "ipython",
    "version": 3
   },
   "file_extension": ".py",
   "mimetype": "text/x-python",
   "name": "python",
   "nbconvert_exporter": "python",
   "pygments_lexer": "ipython3",
   "version": "3.7.3"
  }
 },
 "nbformat": 4,
 "nbformat_minor": 2
}
